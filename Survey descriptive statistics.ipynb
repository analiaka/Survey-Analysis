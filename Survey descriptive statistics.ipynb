{
 "cells": [
  {
   "cell_type": "markdown",
   "id": "d3211cdb-0582-40c2-98fb-4cba6dd93153",
   "metadata": {},
   "source": [
    "#### Explore your survey results:\n",
    "The first step in analyzing survey results involves summarizing key characteristics of the dataset through descriptive statistics. By calculating measures such as the count of non-missing values (N), mean, standard deviation, and the coefficient of variation (CV), we can gain an initial understanding of the distribution and variability of responses for each variable. The descriptive_stats function achieves this by iterating over selected columns in the dataset, computing these metrics, and compiling them into a clear and concise summary table. This table provides an essential overview, highlighting the central tendencies and dispersion within the data, which sets the stage for deeper analysis and interpretation of survey responses."
   ]
  },
  {
   "cell_type": "code",
   "execution_count": 1,
   "id": "aca6fa3f-d55b-42c6-9323-ba816fe0f192",
   "metadata": {},
   "outputs": [],
   "source": [
    "import os\n",
    "import pandas as pd\n",
    "import matplotlib.pyplot as plt"
   ]
  },
  {
   "cell_type": "code",
   "execution_count": 2,
   "id": "f9333687-19a9-421d-a29a-b2b11037cc0a",
   "metadata": {},
   "outputs": [],
   "source": [
    "# Set working directory\n",
    "# Set the working directory to the path where your files are located\n",
    "os.chdir('path_to_your_data')"
   ]
  },
  {
   "cell_type": "code",
   "execution_count": 6,
   "id": "8ca8ec3c-4054-4147-bc83-002106287724",
   "metadata": {},
   "outputs": [],
   "source": [
    "# Load your existing data \n",
    "data = pd.read_csv('your_Data.csv', encoding='ISO-8859-1')"
   ]
  },
  {
   "cell_type": "code",
   "execution_count": 4,
   "id": "32693404-d5d9-4ffd-b3ca-d2f6dabb6728",
   "metadata": {},
   "outputs": [],
   "source": [
    "def descriptive_stats(df, columns):\n",
    "    stats = []\n",
    "\n",
    "    for col in columns:\n",
    "        N = df[col].count()  # Count of non-missing values\n",
    "        mean = df[col].mean()\n",
    "        std = df[col].std()\n",
    "        cv = std / mean if mean != 0 else 0  # Coefficient of Variation (CV)\n",
    "\n",
    "        stats.append({\n",
    "            'Variable': col,\n",
    "            'N': N,\n",
    "            'Mean': round(mean, 2),\n",
    "            'Std Dev': round(std, 2),\n",
    "            'CV': round(cv, 2)\n",
    "        })\n",
    "\n",
    "    # Convert the list of dictionaries to a DataFrame\n",
    "    stats_df = pd.DataFrame(stats)\n",
    "    return stats_df\n"
   ]
  },
  {
   "cell_type": "code",
   "execution_count": 9,
   "id": "5f684b26-624c-4466-9ea0-2a03c50fd296",
   "metadata": {},
   "outputs": [
    {
     "name": "stdout",
     "output_type": "stream",
     "text": [
      "                      Variable   N   Mean  Std Dev    CV\n",
      "0                          Age  39  63.54    11.91  0.19\n",
      "1                       Gender  39   0.97     0.16  0.16\n",
      "2   Highest level of education  39   3.44     1.05  0.30\n",
      "3        Political affiliation  39   1.74     1.07  0.61\n",
      "4           Annual farm income  39   2.13     1.36  0.64\n",
      "5      Irrigation Method Coded  39   3.41     1.83  0.54\n",
      "6           Water Source Coded  39   2.21     1.47  0.67\n",
      "7         Land Ownership Coded  39   2.72     2.21  0.81\n",
      "8               Years Op Coded  39   3.51     0.72  0.21\n",
      "9              Farm size Coded  39   2.82     0.85  0.30\n",
      "10          Future plans Coded  39   1.85     0.43  0.23\n",
      "11            Membership Coded  39   1.49     0.51  0.34\n",
      "12             Behavior1 Coded  39   2.49     0.85  0.34\n",
      "13             Behavior2 Coded  39   2.36     0.71  0.30\n",
      "14             Behavior3 Coded  39   2.13     0.77  0.36\n",
      "15             Behavior4 Coded  39   1.51     0.56  0.37\n",
      "16             Behavior5 Coded  39   2.03     0.99  0.49\n",
      "17             Behavior6 Coded  39   2.03     0.71  0.35\n",
      "18             Behavior7 Coded  39   2.00     0.69  0.34\n",
      "19             Behavior8 Coded  39   2.00     0.69  0.34\n",
      "20             Behavior9 Coded  39   1.46     0.68  0.47\n"
     ]
    },
    {
     "data": {
      "text/html": [
       "<div>\n",
       "<style scoped>\n",
       "    .dataframe tbody tr th:only-of-type {\n",
       "        vertical-align: middle;\n",
       "    }\n",
       "\n",
       "    .dataframe tbody tr th {\n",
       "        vertical-align: top;\n",
       "    }\n",
       "\n",
       "    .dataframe thead th {\n",
       "        text-align: right;\n",
       "    }\n",
       "</style>\n",
       "<table border=\"1\" class=\"dataframe\">\n",
       "  <thead>\n",
       "    <tr style=\"text-align: right;\">\n",
       "      <th></th>\n",
       "      <th>Variable</th>\n",
       "      <th>N</th>\n",
       "      <th>Mean</th>\n",
       "      <th>Std Dev</th>\n",
       "      <th>CV</th>\n",
       "    </tr>\n",
       "  </thead>\n",
       "  <tbody>\n",
       "    <tr>\n",
       "      <th>0</th>\n",
       "      <td>Age</td>\n",
       "      <td>39</td>\n",
       "      <td>63.54</td>\n",
       "      <td>11.91</td>\n",
       "      <td>0.19</td>\n",
       "    </tr>\n",
       "    <tr>\n",
       "      <th>1</th>\n",
       "      <td>Gender</td>\n",
       "      <td>39</td>\n",
       "      <td>0.97</td>\n",
       "      <td>0.16</td>\n",
       "      <td>0.16</td>\n",
       "    </tr>\n",
       "    <tr>\n",
       "      <th>2</th>\n",
       "      <td>Highest level of education</td>\n",
       "      <td>39</td>\n",
       "      <td>3.44</td>\n",
       "      <td>1.05</td>\n",
       "      <td>0.30</td>\n",
       "    </tr>\n",
       "    <tr>\n",
       "      <th>3</th>\n",
       "      <td>Political affiliation</td>\n",
       "      <td>39</td>\n",
       "      <td>1.74</td>\n",
       "      <td>1.07</td>\n",
       "      <td>0.61</td>\n",
       "    </tr>\n",
       "    <tr>\n",
       "      <th>4</th>\n",
       "      <td>Annual farm income</td>\n",
       "      <td>39</td>\n",
       "      <td>2.13</td>\n",
       "      <td>1.36</td>\n",
       "      <td>0.64</td>\n",
       "    </tr>\n",
       "  </tbody>\n",
       "</table>\n",
       "</div>"
      ],
      "text/plain": [
       "                     Variable   N   Mean  Std Dev    CV\n",
       "0                         Age  39  63.54    11.91  0.19\n",
       "1                      Gender  39   0.97     0.16  0.16\n",
       "2  Highest level of education  39   3.44     1.05  0.30\n",
       "3       Political affiliation  39   1.74     1.07  0.61\n",
       "4          Annual farm income  39   2.13     1.36  0.64"
      ]
     },
     "execution_count": 9,
     "metadata": {},
     "output_type": "execute_result"
    }
   ],
   "source": [
    "# Replace with the columns you want to analyze. Below are my examples\n",
    "\n",
    "columns_to_analyze = [\n",
    "    'Age', 'Gender', 'Highest level of education', 'Political affiliation', 'Annual farm income', \n",
    "    'Irrigation Method Coded', 'Water Source Coded', 'Land Ownership Coded', \n",
    "    'Years Op Coded', 'Farm size Coded', 'Future plans Coded', 'Membership Coded', 'Behavior1 Coded', 'Behavior2 Coded', 'Behavior3 Coded',\t'Behavior4 Coded', 'Behavior5 Coded', 'Behavior6 Coded', 'Behavior7 Coded', 'Behavior8 Coded', 'Behavior9 Coded'\n",
    "]\n",
    "\n",
    "# Calculate descriptive statistics\n",
    "descriptive_stats_df = descriptive_stats(data, columns_to_analyze)\n",
    "\n",
    "# Display the DataFrame in Jupyter Notebook\n",
    "print(descriptive_stats_df)\n",
    "\n",
    "# Save the DataFrame to a CSV file\n",
    "descriptive_stats_df.to_csv('descriptive_statistics.csv', index=False)\n",
    "\n",
    "# Alternatively, display using Pandas (for Jupyter Notebooks)\n",
    "descriptive_stats_df.head()\n"
   ]
  },
  {
   "cell_type": "code",
   "execution_count": 10,
   "id": "14bbacb7-3950-487a-9bad-ccc7ed7604e4",
   "metadata": {},
   "outputs": [],
   "source": [
    "# Save your results\n",
    "descriptive_stats_df.to_csv('descriptive_statistics.csv', index=False)\n"
   ]
  }
 ],
 "metadata": {
  "kernelspec": {
   "display_name": "Python 3 (ipykernel)",
   "language": "python",
   "name": "python3"
  },
  "language_info": {
   "codemirror_mode": {
    "name": "ipython",
    "version": 3
   },
   "file_extension": ".py",
   "mimetype": "text/x-python",
   "name": "python",
   "nbconvert_exporter": "python",
   "pygments_lexer": "ipython3",
   "version": "3.11.9"
  }
 },
 "nbformat": 4,
 "nbformat_minor": 5
}
